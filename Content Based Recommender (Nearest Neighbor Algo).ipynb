{
 "cells": [
  {
   "cell_type": "code",
   "execution_count": 95,
   "metadata": {},
   "outputs": [],
   "source": [
    "import pandas as pd\n",
    "import numpy as np\n",
    "\n",
    "import sklearn\n",
    "from sklearn.neighbors import NearestNeighbors\n",
    "import matplotlib.pyplot as plt"
   ]
  },
  {
   "cell_type": "code",
   "execution_count": 59,
   "metadata": {},
   "outputs": [
    {
     "data": {
      "text/html": [
       "<div>\n",
       "<style scoped>\n",
       "    .dataframe tbody tr th:only-of-type {\n",
       "        vertical-align: middle;\n",
       "    }\n",
       "\n",
       "    .dataframe tbody tr th {\n",
       "        vertical-align: top;\n",
       "    }\n",
       "\n",
       "    .dataframe thead th {\n",
       "        text-align: right;\n",
       "    }\n",
       "</style>\n",
       "<table border=\"1\" class=\"dataframe\">\n",
       "  <thead>\n",
       "    <tr style=\"text-align: right;\">\n",
       "      <th></th>\n",
       "      <th>Poem_ID</th>\n",
       "      <th>Poem_lang</th>\n",
       "      <th>Poem_userlang</th>\n",
       "    </tr>\n",
       "  </thead>\n",
       "  <tbody>\n",
       "    <tr>\n",
       "      <th>0</th>\n",
       "      <td>-KOtUxwNobZudSWCIth4</td>\n",
       "      <td>en</td>\n",
       "      <td>en_US</td>\n",
       "    </tr>\n",
       "    <tr>\n",
       "      <th>1</th>\n",
       "      <td>-KOtVKofxMz7vciJP8LE</td>\n",
       "      <td>en</td>\n",
       "      <td>en_US</td>\n",
       "    </tr>\n",
       "    <tr>\n",
       "      <th>2</th>\n",
       "      <td>-KOtVVbMUEzT1e533nOR</td>\n",
       "      <td>en</td>\n",
       "      <td>en_US</td>\n",
       "    </tr>\n",
       "    <tr>\n",
       "      <th>3</th>\n",
       "      <td>-KOtVip8C5LYExx_YfTp</td>\n",
       "      <td>en</td>\n",
       "      <td>en_US</td>\n",
       "    </tr>\n",
       "    <tr>\n",
       "      <th>4</th>\n",
       "      <td>-KOtW-y-9D6IuHSfqBSh</td>\n",
       "      <td>en</td>\n",
       "      <td>en_US</td>\n",
       "    </tr>\n",
       "  </tbody>\n",
       "</table>\n",
       "</div>"
      ],
      "text/plain": [
       "                 Poem_ID Poem_lang Poem_userlang\n",
       "0   -KOtUxwNobZudSWCIth4        en         en_US\n",
       "1   -KOtVKofxMz7vciJP8LE        en         en_US\n",
       "2   -KOtVVbMUEzT1e533nOR        en         en_US\n",
       "3   -KOtVip8C5LYExx_YfTp        en         en_US\n",
       "4   -KOtW-y-9D6IuHSfqBSh        en         en_US"
      ]
     },
     "execution_count": 59,
     "metadata": {},
     "output_type": "execute_result"
    }
   ],
   "source": [
    "dataframe = pd.read_csv(\"detected_languages.csv\")\n",
    "dataframe.columns = ['Poem_ID','Poem_lang','Poem_userlang']\n",
    "dataframe.head()"
   ]
  },
  {
   "cell_type": "code",
   "execution_count": 13,
   "metadata": {},
   "outputs": [
    {
     "data": {
      "text/plain": [
       "Poem_ID          9390\n",
       "Poem_lang        9390\n",
       "Poem_userlang    9390\n",
       "dtype: int64"
      ]
     },
     "execution_count": 13,
     "metadata": {},
     "output_type": "execute_result"
    }
   ],
   "source": [
    "dataframe.count()"
   ]
  },
  {
   "cell_type": "code",
   "execution_count": 114,
   "metadata": {},
   "outputs": [
    {
     "name": "stdout",
     "output_type": "stream",
     "text": [
      "                Poem_ID Poem_mood\n",
      "0  -KOtUxwNobZudSWCIth4       Joy\n",
      "1  -KOtVKofxMz7vciJP8LE      Fear\n",
      "2  -KOtVVbMUEzT1e533nOR     Anger\n",
      "3  -KOtVip8C5LYExx_YfTp       Joy\n",
      "4  -KOtW-y-9D6IuHSfqBSh   Sadness\n"
     ]
    },
    {
     "data": {
      "text/plain": [
       "array(['Joy', 'Fear', 'Anger', 'Sadness', 'Confident', 'Tentative',\n",
       "       'Analytical', nan], dtype=object)"
      ]
     },
     "execution_count": 114,
     "metadata": {},
     "output_type": "execute_result"
    }
   ],
   "source": [
    "moods = pd.read_csv(\"moods.csv\", sep = ',')\n",
    "moods.columns = ['Poem_ID', 'Poem_mood']\n",
    "print(moods.head())\n",
    "\n",
    "moods.Poem_mood.unique()"
   ]
  },
  {
   "cell_type": "code",
   "execution_count": 64,
   "metadata": {},
   "outputs": [
    {
     "data": {
      "text/html": [
       "<div>\n",
       "<style scoped>\n",
       "    .dataframe tbody tr th:only-of-type {\n",
       "        vertical-align: middle;\n",
       "    }\n",
       "\n",
       "    .dataframe tbody tr th {\n",
       "        vertical-align: top;\n",
       "    }\n",
       "\n",
       "    .dataframe thead th {\n",
       "        text-align: right;\n",
       "    }\n",
       "</style>\n",
       "<table border=\"1\" class=\"dataframe\">\n",
       "  <thead>\n",
       "    <tr style=\"text-align: right;\">\n",
       "      <th></th>\n",
       "      <th>Poem_ID</th>\n",
       "      <th>Poem_lang</th>\n",
       "      <th>Poem_userlang</th>\n",
       "      <th>Poem_mood</th>\n",
       "    </tr>\n",
       "  </thead>\n",
       "  <tbody>\n",
       "    <tr>\n",
       "      <th>0</th>\n",
       "      <td>-KPOHxLHscJMMfTwuUME</td>\n",
       "      <td>en</td>\n",
       "      <td>en_US</td>\n",
       "      <td>\\tJoy</td>\n",
       "    </tr>\n",
       "    <tr>\n",
       "      <th>1</th>\n",
       "      <td>-KSEyYYldkGgboPrLcsb</td>\n",
       "      <td>hi</td>\n",
       "      <td>hi_IN</td>\n",
       "      <td>\\tFear</td>\n",
       "    </tr>\n",
       "    <tr>\n",
       "      <th>2</th>\n",
       "      <td>-KUmvctEShybWeogifDm</td>\n",
       "      <td>hi</td>\n",
       "      <td>hi_IN</td>\n",
       "      <td>\\tJoy</td>\n",
       "    </tr>\n",
       "    <tr>\n",
       "      <th>3</th>\n",
       "      <td>-KVGMQAYKYdxHGxxLnxL</td>\n",
       "      <td>hi</td>\n",
       "      <td>hi_IN</td>\n",
       "      <td>\\tSadness</td>\n",
       "    </tr>\n",
       "    <tr>\n",
       "      <th>4</th>\n",
       "      <td>-KVznqDTcjvBmqi-MHOH</td>\n",
       "      <td>hi</td>\n",
       "      <td>hi_IN</td>\n",
       "      <td>Confident</td>\n",
       "    </tr>\n",
       "  </tbody>\n",
       "</table>\n",
       "</div>"
      ],
      "text/plain": [
       "                 Poem_ID Poem_lang Poem_userlang  Poem_mood\n",
       "0   -KPOHxLHscJMMfTwuUME        en         en_US      \\tJoy\n",
       "1   -KSEyYYldkGgboPrLcsb        hi         hi_IN     \\tFear\n",
       "2   -KUmvctEShybWeogifDm        hi         hi_IN      \\tJoy\n",
       "3   -KVGMQAYKYdxHGxxLnxL        hi         hi_IN  \\tSadness\n",
       "4   -KVznqDTcjvBmqi-MHOH        hi         hi_IN  Confident"
      ]
     },
     "execution_count": 64,
     "metadata": {},
     "output_type": "execute_result"
    }
   ],
   "source": [
    "combined_df = pd.merge(dataframe, moods, on = 'Poem_ID')\n",
    "combined_df.head()"
   ]
  },
  {
   "cell_type": "code",
   "execution_count": 83,
   "metadata": {},
   "outputs": [
    {
     "data": {
      "text/plain": [
       "array([' en', ' hi', ' sw', ' de', ' ml', ' et', ' id', ' so', ' fi',\n",
       "       ' sv', ' af', ' gu', ' sl', ' ur', ' mr', ' tl', ' pa', ' sq',\n",
       "       ' nl', ' ne', ' cy', ' es', ' bn', ' fr', ' lv', ' kn', ' ca',\n",
       "       ' hr', ' pt', ' pl', ' tr', ' vi', ' hu', ' no', ' da'],\n",
       "      dtype=object)"
      ]
     },
     "execution_count": 83,
     "metadata": {},
     "output_type": "execute_result"
    }
   ],
   "source": [
    "dataframe.Poem_lang.unique()"
   ]
  },
  {
   "cell_type": "markdown",
   "metadata": {},
   "source": [
    "### Replace the languages symbols with numbers"
   ]
  },
  {
   "cell_type": "code",
   "execution_count": 248,
   "metadata": {},
   "outputs": [
    {
     "name": "stdout",
     "output_type": "stream",
     "text": [
      "                 Poem_ID  Poem_lang\n",
      "0   -KOtUxwNobZudSWCIth4          1\n",
      "1   -KOtVKofxMz7vciJP8LE          1\n",
      "2   -KOtVVbMUEzT1e533nOR          1\n",
      "3   -KOtVip8C5LYExx_YfTp          1\n",
      "4   -KOtW-y-9D6IuHSfqBSh          1\n"
     ]
    }
   ],
   "source": [
    "dataframe[\"Poem_lang\"]=dataframe[\"Poem_lang\"].replace(\"en\",1)\n",
    "dataframe[\"Poem_lang\"]=dataframe[\"Poem_lang\"].replace(\"hi\",2)\n",
    "dataframe[\"Poem_lang\"]=dataframe[\"Poem_lang\"].replace(\"sw\",3)\n",
    "dataframe[\"Poem_lang\"]=dataframe[\"Poem_lang\"].replace(\"de\",4)\n",
    "dataframe[\"Poem_lang\"]=dataframe[\"Poem_lang\"].replace(\"ml\",5)\n",
    "dataframe[\"Poem_lang\"]=dataframe[\"Poem_lang\"].replace(\"et\",6)\n",
    "dataframe[\"Poem_lang\"]=dataframe[\"Poem_lang\"].replace(\"id\",7)\n",
    "dataframe[\"Poem_lang\"]=dataframe[\"Poem_lang\"].replace(\"so\",8)\n",
    "dataframe[\"Poem_lang\"]=dataframe[\"Poem_lang\"].replace(\"fi\",9)\n",
    "dataframe[\"Poem_lang\"]=dataframe[\"Poem_lang\"].replace(\"sv\",10)\n",
    "dataframe[\"Poem_lang\"]=dataframe[\"Poem_lang\"].replace(\"af\",11)\n",
    "dataframe[\"Poem_lang\"]=dataframe[\"Poem_lang\"].replace(\"gu\",12)\n",
    "dataframe[\"Poem_lang\"]=dataframe[\"Poem_lang\"].replace(\"sl\",13)\n",
    "dataframe[\"Poem_lang\"]=dataframe[\"Poem_lang\"].replace(\"ur\",14)\n",
    "dataframe[\"Poem_lang\"]=dataframe[\"Poem_lang\"].replace(\"mr\",15)\n",
    "dataframe[\"Poem_lang\"]=dataframe[\"Poem_lang\"].replace(\"tl\",16)\n",
    "dataframe[\"Poem_lang\"]=dataframe[\"Poem_lang\"].replace(\"pa\",17)\n",
    "dataframe[\"Poem_lang\"]=dataframe[\"Poem_lang\"].replace(\"sq\",18)\n",
    "dataframe[\"Poem_lang\"]=dataframe[\"Poem_lang\"].replace(\"nl\",19)\n",
    "dataframe[\"Poem_lang\"]=dataframe[\"Poem_lang\"].replace(\"ne\",20)\n",
    "dataframe[\"Poem_lang\"]=dataframe[\"Poem_lang\"].replace(\"cy\",21)\n",
    "dataframe[\"Poem_lang\"]=dataframe[\"Poem_lang\"].replace(\"es\",22)\n",
    "dataframe[\"Poem_lang\"]=dataframe[\"Poem_lang\"].replace(\"bn\",23)\n",
    "dataframe[\"Poem_lang\"]=dataframe[\"Poem_lang\"].replace(\"fr\",24)\n",
    "dataframe[\"Poem_lang\"]=dataframe[\"Poem_lang\"].replace(\"lv\",25)\n",
    "dataframe[\"Poem_lang\"]=dataframe[\"Poem_lang\"].replace(\"kn\",26)\n",
    "dataframe[\"Poem_lang\"]=dataframe[\"Poem_lang\"].replace(\"ca\",27)\n",
    "dataframe[\"Poem_lang\"]=dataframe[\"Poem_lang\"].replace(\"hr\",28)\n",
    "dataframe[\"Poem_lang\"]=dataframe[\"Poem_lang\"].replace(\"pt\",29)\n",
    "dataframe[\"Poem_lang\"]=dataframe[\"Poem_lang\"].replace(\"pl\",30)\n",
    "dataframe[\"Poem_lang\"]=dataframe[\"Poem_lang\"].replace(\"tr\",31)\n",
    "dataframe[\"Poem_lang\"]=dataframe[\"Poem_lang\"].replace(\"vi\",32)\n",
    "dataframe[\"Poem_lang\"]=dataframe[\"Poem_lang\"].replace(\"hu\",33)\n",
    "dataframe[\"Poem_lang\"]=dataframe[\"Poem_lang\"].replace(\"no\",34)\n",
    "dataframe[\"Poem_lang\"]=dataframe[\"Poem_lang\"].replace(\"da\",35)\n",
    "\n",
    "# pd.to_numeric(dataframe.Poem_lang())\n",
    "# dataframe = dataframe.drop(columns =['Poem_userlang'])\n",
    "\n",
    "print(dataframe.head())"
   ]
  },
  {
   "cell_type": "markdown",
   "metadata": {},
   "source": [
    "### Replace Poem_mood with numbers as well to use NearestNeighbors"
   ]
  },
  {
   "cell_type": "code",
   "execution_count": 247,
   "metadata": {},
   "outputs": [
    {
     "name": "stdout",
     "output_type": "stream",
     "text": [
      "                Poem_ID  Poem_mood\n",
      "0  -KOtUxwNobZudSWCIth4        1.0\n",
      "1  -KOtVKofxMz7vciJP8LE        3.0\n",
      "2  -KOtVVbMUEzT1e533nOR        2.0\n",
      "3  -KOtVip8C5LYExx_YfTp        1.0\n",
      "4  -KOtW-y-9D6IuHSfqBSh        4.0\n"
     ]
    }
   ],
   "source": [
    "moods[\"Poem_mood\"]= moods[\"Poem_mood\"].replace(\"Joy\", 1)\n",
    "moods[\"Poem_mood\"]= moods[\"Poem_mood\"].replace(\"Anger\", 2)\n",
    "moods[\"Poem_mood\"]= moods[\"Poem_mood\"].replace(\"Fear\", 3)\n",
    "moods[\"Poem_mood\"]= moods[\"Poem_mood\"].replace(\"Sadness\", 4)\n",
    "moods[\"Poem_mood\"]= moods[\"Poem_mood\"].replace(\"Confident\", 5)\n",
    "moods[\"Poem_mood\"]= moods[\"Poem_mood\"].replace(\"Analytical\", 6)\n",
    "moods[\"Poem_mood\"]= moods[\"Poem_mood\"].replace(\"Tentative\", 7)\n",
    "\n",
    "print(moods.head())"
   ]
  },
  {
   "cell_type": "code",
   "execution_count": 245,
   "metadata": {},
   "outputs": [
    {
     "name": "stdout",
     "output_type": "stream",
     "text": [
      "Poem_lang\n",
      "af      0\n",
      "de      1\n",
      "en     99\n",
      "et      1\n",
      "fi      0\n",
      "hi    169\n",
      "id     62\n",
      "ml      4\n",
      "so      5\n",
      "sv      0\n",
      "sw      3\n",
      "Name: No_of_likes, dtype: int64\n"
     ]
    }
   ],
   "source": [
    "# liked_poems['Poem_lang'].count()\n",
    "useful = liked_poems.groupby('Poem_lang')['No_of_likes'].sum()\n",
    "print(useful)\n"
   ]
  },
  {
   "cell_type": "code",
   "execution_count": 244,
   "metadata": {},
   "outputs": [
    {
     "data": {
      "image/png": "[encoded data removed]",
      "text/plain": [
       "<Figure size 432x288 with 1 Axes>"
      ]
     },
     "metadata": {
      "needs_background": "light"
     },
     "output_type": "display_data"
    }
   ],
   "source": [
    "hindi = liked_poems.loc[liked_poems['Poem_lang'] == 'hi', 'No_of_likes'].sum()\n",
    "english = liked_poems.loc[liked_poems['Poem_lang'] == 'en', 'No_of_likes'].sum()\n",
    "indo = liked_poems.loc[liked_poems['Poem_lang'] == 'id', 'No_of_likes'].sum()\n",
    "mallu = liked_poems.loc[liked_poems['Poem_lang'] == 'ml', 'No_of_likes'].sum()\n",
    "performance = [hindi, english, indo, mallu]\n",
    "Objects = ['hi','en','id','ml']\n",
    "y_pos = np.arange(len(Objects))\n",
    "\n",
    "plt.barh(y_pos,performance,align='center',alpha = 0.5)\n",
    "plt.xlabel('Popularity')\n",
    "plt.title('Popular Poems')\n",
    "plt.ylabel(Objects)\n",
    "plt.show()"
   ]
  },
  {
   "cell_type": "markdown",
   "metadata": {},
   "source": [
    "### Give the test parameter manually in this case"
   ]
  },
  {
   "cell_type": "code",
   "execution_count": 249,
   "metadata": {},
   "outputs": [
    {
     "ename": "NameError",
     "evalue": "name 'Poem_moods' is not defined",
     "output_type": "error",
     "traceback": [
      "\u001b[0;31m---------------------------------------------------------------------------\u001b[0m",
      "\u001b[0;31mNameError\u001b[0m                                 Traceback (most recent call last)",
      "\u001b[0;32m<ipython-input-249-05b1ea7626e6>\u001b[0m in \u001b[0;36m<module>\u001b[0;34m\u001b[0m\n\u001b[0;32m----> 1\u001b[0;31m \u001b[0mprint\u001b[0m \u001b[0;34m(\u001b[0m\u001b[0mpd\u001b[0m\u001b[0;34m.\u001b[0m\u001b[0mmerge\u001b[0m\u001b[0;34m(\u001b[0m\u001b[0mdataframe\u001b[0m\u001b[0;34m,\u001b[0m \u001b[0mPoem_moods\u001b[0m\u001b[0;34m,\u001b[0m \u001b[0mon\u001b[0m\u001b[0;34m=\u001b[0m\u001b[0;34m'Poem_ID'\u001b[0m\u001b[0;34m)\u001b[0m\u001b[0;34m)\u001b[0m\u001b[0;34m\u001b[0m\u001b[0;34m\u001b[0m\u001b[0m\n\u001b[0m\u001b[1;32m      2\u001b[0m \u001b[0;34m\u001b[0m\u001b[0m\n\u001b[1;32m      3\u001b[0m \u001b[0;34m\u001b[0m\u001b[0m\n\u001b[1;32m      4\u001b[0m \u001b[0;34m\u001b[0m\u001b[0m\n\u001b[1;32m      5\u001b[0m \u001b[0;31m# combined_data = dataframe.join(moods, on = 'Poem_ID')\u001b[0m\u001b[0;34m\u001b[0m\u001b[0;34m\u001b[0m\u001b[0;34m\u001b[0m\u001b[0m\n",
      "\u001b[0;31mNameError\u001b[0m: name 'Poem_moods' is not defined"
     ]
    }
   ],
   "source": [
    "print (pd.merge(dataframe, moods, on='Poem_ID'))\n",
    "\n",
    "\n",
    "# combined_data = dataframe.join(moods, on = 'Poem_ID')\n",
    "# combine_data.head()"
   ]
  },
  {
   "cell_type": "code",
   "execution_count": null,
   "metadata": {},
   "outputs": [],
   "source": []
  }
 ],
 "metadata": {
  "kernelspec": {
   "display_name": "Python 3",
   "language": "python",
   "name": "python3"
  },
  "language_info": {
   "codemirror_mode": {
    "name": "ipython",
    "version": 3
   },
   "file_extension": ".py",
   "mimetype": "text/x-python",
   "name": "python",
   "nbconvert_exporter": "python",
   "pygments_lexer": "ipython3",
   "version": "3.7.3"
  }
 },
 "nbformat": 4,
 "nbformat_minor": 2
}
